{
  "cells": [
    {
      "cell_type": "code",
      "execution_count": 1,
      "metadata": {
        "id": "v5KDn4vJKJrE"
      },
      "outputs": [],
      "source": [
        "import os\n",
        "import tensorflow as tf\n",
        "from sklearn.model_selection import train_test_split\n",
        "import cv2 as cv\n",
        "import numpy as np\n",
        "import matplotlib.pyplot as plt"
      ]
    },
    {
      "cell_type": "code",
      "execution_count": 2,
      "metadata": {
        "colab": {
          "base_uri": "https://localhost:8080/"
        },
        "id": "D0-zSN3hKrkH",
        "outputId": "d270e3dd-8f7e-4808-fb1b-c60cfd5f3318"
      },
      "outputs": [
        {
          "name": "stdout",
          "output_type": "stream",
          "text": [
            "Mounted at /content/drive\n"
          ]
        }
      ],
      "source": [
        "from google.colab import drive\n",
        "drive.mount('/content/drive')"
      ]
    },
    {
      "cell_type": "code",
      "execution_count": null,
      "metadata": {
        "id": "r4KMdaFQSDL4"
      },
      "outputs": [],
      "source": [
        "# setting up kaggle to download dataset\n",
        "!pip install -q kaggle\n",
        "!mkdir -p ~/.kaggle\n",
        "!cp kaggle.json ~/.kaggle/\n",
        "!chmod 600 ~/.kaggle/kaggle.json"
      ]
    },
    {
      "cell_type": "code",
      "execution_count": null,
      "metadata": {
        "colab": {
          "base_uri": "https://localhost:8080/"
        },
        "id": "BNqOHKOXYTcP",
        "outputId": "48a95981-9dc8-477b-8c74-1b3d21b6831b"
      },
      "outputs": [
        {
          "name": "stdout",
          "output_type": "stream",
          "text": [
            "Downloading the-simpsons-characters-dataset.zip to /content/drive/MyDrive/Simpsons\n",
            "100% 1.08G/1.08G [01:01<00:00, 19.8MB/s]\n",
            "100% 1.08G/1.08G [01:01<00:00, 18.9MB/s]\n"
          ]
        }
      ],
      "source": [
        "# downloading dataset\n",
        "!kaggle datasets download -d alexattia/the-simpsons-characters-dataset -p /content/drive/MyDrive/Simpsons"
      ]
    },
    {
      "cell_type": "code",
      "execution_count": null,
      "metadata": {
        "id": "rEjse8x1Zbww"
      },
      "outputs": [],
      "source": [
        "# unzipping the dataset\n",
        "!unzip /content/drive/MyDrive/Simpsons/the-simpsons-characters-dataset.zip -d /content/drive/MyDrive/Simpsons/the-simpsons-characters-dataset/"
      ]
    },
    {
      "cell_type": "code",
      "execution_count": 4,
      "metadata": {
        "id": "rpDA3JYsMZCX"
      },
      "outputs": [],
      "source": [
        "# initializing variables\n",
        "IMG_SIZE = (30, 30)\n",
        "CHANNELS = 3\n",
        "data_dir = r'/content/drive/MyDrive/Simpsons/the-simpsons-characters-dataset/simpsons_dataset'\n",
        "TEST_SIZE = 0.2"
      ]
    },
    {
      "cell_type": "code",
      "execution_count": 5,
      "metadata": {
        "id": "RA5slMiMBdtl"
      },
      "outputs": [],
      "source": [
        "def load_data():\n",
        "  # storing character name and quantity in a dictonary\n",
        "  data_dict = {}\n",
        "  for data in os.listdir(data_dir):\n",
        "    data_dict[data] = len(os.listdir(os.path.join(data_dir, data)))\n",
        "\n",
        "  # sorting dictonary in decending order of values of dictonary\n",
        "  data_dict = sorted(data_dict.items(), key=lambda x:x[1], reverse=True)\n",
        "\n",
        "  # getting top 10 classes with max samples \n",
        "  classes = []\n",
        "  count = 0\n",
        "  for i in data_dict:\n",
        "    classes.append(i[0])\n",
        "    count += 1\n",
        "    if count >= 10:\n",
        "      break\n",
        "  print(\"top 10 classes:\", classes)\n",
        "\n",
        "  # loading data\n",
        "  features = []\n",
        "  labels = []\n",
        "  for folder in classes:\n",
        "    folder_path = os.path.join(data_dir, folder)\n",
        "    folder_label = classes.index(folder)\n",
        "    # message\n",
        "    if os.path.isdir(folder_path):\n",
        "      print(f\"Loading files from {folder_path}\")\n",
        "    # appending data with features and labels\n",
        "    for file in os.listdir(folder_path):\n",
        "      # preprocessing data\n",
        "      img = cv.imread(os.path.join(folder_path, file))\n",
        "      img = cv.resize(img, IMG_SIZE)\n",
        "      img = cv.cvtColor(img, cv.COLOR_BGR2RGB)\n",
        "      features.append(img)\n",
        "      labels.append(folder_label)\n",
        "\n",
        "  return features, labels, classes"
      ]
    },
    {
      "cell_type": "code",
      "execution_count": 6,
      "metadata": {
        "colab": {
          "base_uri": "https://localhost:8080/"
        },
        "id": "-cogE1noiEkX",
        "outputId": "9417405a-612e-4738-c748-e31d199deccd"
      },
      "outputs": [
        {
          "name": "stdout",
          "output_type": "stream",
          "text": [
            "top 10 classes: ['homer_simpson', 'ned_flanders', 'moe_szyslak', 'lisa_simpson', 'bart_simpson', 'marge_simpson', 'krusty_the_clown', 'principal_skinner', 'charles_montgomery_burns', 'milhouse_van_houten']\n",
            "Loading files from /content/drive/MyDrive/Simpsons/the-simpsons-characters-dataset/simpsons_dataset/homer_simpson\n",
            "Loading files from /content/drive/MyDrive/Simpsons/the-simpsons-characters-dataset/simpsons_dataset/ned_flanders\n",
            "Loading files from /content/drive/MyDrive/Simpsons/the-simpsons-characters-dataset/simpsons_dataset/moe_szyslak\n",
            "Loading files from /content/drive/MyDrive/Simpsons/the-simpsons-characters-dataset/simpsons_dataset/lisa_simpson\n",
            "Loading files from /content/drive/MyDrive/Simpsons/the-simpsons-characters-dataset/simpsons_dataset/bart_simpson\n",
            "Loading files from /content/drive/MyDrive/Simpsons/the-simpsons-characters-dataset/simpsons_dataset/marge_simpson\n",
            "Loading files from /content/drive/MyDrive/Simpsons/the-simpsons-characters-dataset/simpsons_dataset/krusty_the_clown\n",
            "Loading files from /content/drive/MyDrive/Simpsons/the-simpsons-characters-dataset/simpsons_dataset/principal_skinner\n",
            "Loading files from /content/drive/MyDrive/Simpsons/the-simpsons-characters-dataset/simpsons_dataset/charles_montgomery_burns\n",
            "Loading files from /content/drive/MyDrive/Simpsons/the-simpsons-characters-dataset/simpsons_dataset/milhouse_van_houten\n"
          ]
        }
      ],
      "source": [
        "# loading data\n",
        "features, labels, classses = load_data()\n",
        "\n",
        "# converting integer labeles to binary matrices to use categorical_crossentropy loss fn\n",
        "labels = tf.keras.utils.to_categorical(labels)\n",
        "\n",
        "# performing train test split\n",
        "x_train, x_test, y_train, y_test =  train_test_split(np.array(features), np.array(labels), test_size=TEST_SIZE)"
      ]
    },
    {
      "cell_type": "code",
      "execution_count": 21,
      "metadata": {
        "colab": {
          "base_uri": "https://localhost:8080/",
          "height": 465
        },
        "id": "per6InWF3vPk",
        "outputId": "49f4c981-3157-44bf-c83a-903477f8aa06"
      },
      "outputs": [
        {
          "name": "stdout",
          "output_type": "stream",
          "text": [
            "13811 13811\n",
            "image shape: (30, 30, 3)\n"
          ]
        },
        {
          "data": {
            "image/png": "[encoded data removed]",
            "text/plain": [
              "<Figure size 640x480 with 1 Axes>"
            ]
          },
          "metadata": {},
          "output_type": "display_data"
        }
      ],
      "source": [
        "print(len(features), len(labels))\n",
        "print(\"image shape:\", features[0].shape)\n",
        "plt.imshow(features[0])\n",
        "plt.show()"
      ]
    },
    {
      "cell_type": "code",
      "execution_count": 22,
      "metadata": {
        "id": "sPsV5r9-7Irs"
      },
      "outputs": [],
      "source": [
        "def get_model():\n",
        "    # defining model\n",
        "    model = tf.keras.models.Sequential([\n",
        "        \n",
        "        # adding convolutional layer with 128 filters by 3x3 kernal\n",
        "        tf.keras.layers.Conv2D(128, (3,3), activation=\"relu\", input_shape=(30, 30, 3)),\n",
        "        \n",
        "        # adding max_pooling layer with pool size 2x2 with 10% dropout\n",
        "        tf.keras.layers.MaxPooling2D(pool_size=(2, 2)),\n",
        "        tf.keras.layers.Dropout(0.10),\n",
        "        \n",
        "        # adding convolutional layer with 252 filters by 3x3 kernal\n",
        "        tf.keras.layers.Conv2D(252, (3,3), activation=\"relu\"),\n",
        "        \n",
        "        # adding max_pooling layer with pool size 2x2 with 25% dropout\n",
        "        tf.keras.layers.MaxPooling2D(pool_size=(2, 2)),\n",
        "        tf.keras.layers.Dropout(0.25),\n",
        "\n",
        "        # adding convolutional layer with 256 filters by 6x6 kernal\n",
        "        tf.keras.layers.Conv2D(512, (3,3), activation=\"relu\"),\n",
        "        \n",
        "        # adding max_pooling layer with pool size 2x2 with 10% dropout\n",
        "        tf.keras.layers.MaxPooling2D(pool_size=(2, 2)),\n",
        "        tf.keras.layers.Dropout(0.10),\n",
        "\n",
        "        # flattening all the units with dropout with 40%\n",
        "        tf.keras.layers.Flatten(),\n",
        "        tf.keras.layers.Dropout(0.40),\n",
        "        \n",
        "        # adding hidden layer with 1024 units with 45% dropout\n",
        "        tf.keras.layers.Dense(1024, activation=\"relu\"),\n",
        "        tf.keras.layers.Dropout(0.10),\n",
        "        \n",
        "        # adding output layer with 10 units to get probablity for 10 digits with softmax activation fn\n",
        "        tf.keras.layers.Dense(10, activation=\"softmax\")\n",
        "    ])\n",
        "    \n",
        "    # compiling model\n",
        "    model.compile(\n",
        "        optimizer=\"adam\",\n",
        "        loss=\"categorical_crossentropy\",\n",
        "        metrics=[\"accuracy\"]\n",
        "    )\n",
        "    \n",
        "    # getting model summary\n",
        "    model.summary()\n",
        "    return model"
      ]
    },
    {
      "cell_type": "code",
      "execution_count": 23,
      "metadata": {
        "colab": {
          "base_uri": "https://localhost:8080/"
        },
        "id": "Cj7Ohibvd3Lc",
        "outputId": "15343fdd-be83-4deb-b138-0b1bb4ed6bd0"
      },
      "outputs": [
        {
          "name": "stdout",
          "output_type": "stream",
          "text": [
            "Model: \"sequential_1\"\n",
            "_________________________________________________________________\n",
            " Layer (type)                Output Shape              Param #   \n",
            "=================================================================\n",
            " conv2d_3 (Conv2D)           (None, 28, 28, 128)       3584      \n",
            "                                                                 \n",
            " max_pooling2d_3 (MaxPooling  (None, 14, 14, 128)      0         \n",
            " 2D)                                                             \n",
            "                                                                 \n",
            " dropout_5 (Dropout)         (None, 14, 14, 128)       0         \n",
            "                                                                 \n",
            " conv2d_4 (Conv2D)           (None, 12, 12, 252)       290556    \n",
            "                                                                 \n",
            " max_pooling2d_4 (MaxPooling  (None, 6, 6, 252)        0         \n",
            " 2D)                                                             \n",
            "                                                                 \n",
            " dropout_6 (Dropout)         (None, 6, 6, 252)         0         \n",
            "                                                                 \n",
            " conv2d_5 (Conv2D)           (None, 4, 4, 512)         1161728   \n",
            "                                                                 \n",
            " max_pooling2d_5 (MaxPooling  (None, 2, 2, 512)        0         \n",
            " 2D)                                                             \n",
            "                                                                 \n",
            " dropout_7 (Dropout)         (None, 2, 2, 512)         0         \n",
            "                                                                 \n",
            " flatten_1 (Flatten)         (None, 2048)              0         \n",
            "                                                                 \n",
            " dropout_8 (Dropout)         (None, 2048)              0         \n",
            "                                                                 \n",
            " dense_2 (Dense)             (None, 1024)              2098176   \n",
            "                                                                 \n",
            " dropout_9 (Dropout)         (None, 1024)              0         \n",
            "                                                                 \n",
            " dense_3 (Dense)             (None, 10)                10250     \n",
            "                                                                 \n",
            "=================================================================\n",
            "Total params: 3,564,294\n",
            "Trainable params: 3,564,294\n",
            "Non-trainable params: 0\n",
            "_________________________________________________________________\n"
          ]
        }
      ],
      "source": [
        "# getting model\n",
        "model = get_model()"
      ]
    },
    {
      "cell_type": "code",
      "execution_count": 24,
      "metadata": {
        "colab": {
          "base_uri": "https://localhost:8080/"
        },
        "id": "niPXIR0RfCb5",
        "outputId": "7333ddbd-44d7-4cde-ef3f-7acc36a797d7"
      },
      "outputs": [
        {
          "name": "stdout",
          "output_type": "stream",
          "text": [
            "Epoch 1/40\n",
            "346/346 [==============================] - 7s 9ms/step - loss: 3.8429 - accuracy: 0.2696 - val_loss: 1.6647 - val_accuracy: 0.4336\n",
            "Epoch 2/40\n",
            "346/346 [==============================] - 3s 9ms/step - loss: 1.5351 - accuracy: 0.4761 - val_loss: 1.2598 - val_accuracy: 0.5892\n",
            "Epoch 3/40\n",
            "346/346 [==============================] - 3s 9ms/step - loss: 1.2407 - accuracy: 0.5838 - val_loss: 0.9970 - val_accuracy: 0.6656\n",
            "Epoch 4/40\n",
            "346/346 [==============================] - 3s 10ms/step - loss: 1.0590 - accuracy: 0.6476 - val_loss: 0.9234 - val_accuracy: 0.7293\n",
            "Epoch 5/40\n",
            "346/346 [==============================] - 3s 9ms/step - loss: 0.9442 - accuracy: 0.6837 - val_loss: 0.7616 - val_accuracy: 0.7441\n",
            "Epoch 6/40\n",
            "346/346 [==============================] - 3s 9ms/step - loss: 0.8473 - accuracy: 0.7134 - val_loss: 0.6963 - val_accuracy: 0.7716\n",
            "Epoch 7/40\n",
            "346/346 [==============================] - 3s 9ms/step - loss: 0.7901 - accuracy: 0.7352 - val_loss: 0.7294 - val_accuracy: 0.7571\n",
            "Epoch 8/40\n",
            "346/346 [==============================] - 3s 10ms/step - loss: 0.7703 - accuracy: 0.7424 - val_loss: 0.6655 - val_accuracy: 0.8006\n",
            "Epoch 9/40\n",
            "346/346 [==============================] - 3s 9ms/step - loss: 0.7065 - accuracy: 0.7638 - val_loss: 0.7011 - val_accuracy: 0.7528\n",
            "Epoch 10/40\n",
            "346/346 [==============================] - 3s 9ms/step - loss: 0.6610 - accuracy: 0.7815 - val_loss: 0.6678 - val_accuracy: 0.7799\n",
            "Epoch 11/40\n",
            "346/346 [==============================] - 3s 9ms/step - loss: 0.6636 - accuracy: 0.7800 - val_loss: 0.5810 - val_accuracy: 0.8082\n",
            "Epoch 12/40\n",
            "346/346 [==============================] - 3s 9ms/step - loss: 0.6347 - accuracy: 0.7908 - val_loss: 0.5661 - val_accuracy: 0.8183\n",
            "Epoch 13/40\n",
            "346/346 [==============================] - 3s 9ms/step - loss: 0.5902 - accuracy: 0.8112 - val_loss: 0.6049 - val_accuracy: 0.8122\n",
            "Epoch 14/40\n",
            "346/346 [==============================] - 3s 9ms/step - loss: 0.5864 - accuracy: 0.8129 - val_loss: 0.5919 - val_accuracy: 0.8089\n",
            "Epoch 15/40\n",
            "346/346 [==============================] - 3s 9ms/step - loss: 0.5919 - accuracy: 0.8100 - val_loss: 0.5888 - val_accuracy: 0.8154\n",
            "Epoch 16/40\n",
            "346/346 [==============================] - 3s 9ms/step - loss: 0.5618 - accuracy: 0.8173 - val_loss: 0.5562 - val_accuracy: 0.8212\n",
            "Epoch 17/40\n",
            "346/346 [==============================] - 3s 10ms/step - loss: 0.5740 - accuracy: 0.8185 - val_loss: 0.5662 - val_accuracy: 0.8277\n",
            "Epoch 18/40\n",
            "346/346 [==============================] - 3s 9ms/step - loss: 0.5898 - accuracy: 0.8077 - val_loss: 0.5401 - val_accuracy: 0.8292\n",
            "Epoch 19/40\n",
            "346/346 [==============================] - 3s 9ms/step - loss: 0.5578 - accuracy: 0.8230 - val_loss: 0.5115 - val_accuracy: 0.8404\n",
            "Epoch 20/40\n",
            "346/346 [==============================] - 3s 9ms/step - loss: 0.5197 - accuracy: 0.8376 - val_loss: 0.6105 - val_accuracy: 0.8114\n",
            "Epoch 21/40\n",
            "346/346 [==============================] - 3s 10ms/step - loss: 0.5207 - accuracy: 0.8366 - val_loss: 0.5064 - val_accuracy: 0.8346\n",
            "Epoch 22/40\n",
            "346/346 [==============================] - 3s 9ms/step - loss: 0.5159 - accuracy: 0.8392 - val_loss: 0.5120 - val_accuracy: 0.8465\n",
            "Epoch 23/40\n",
            "346/346 [==============================] - 3s 9ms/step - loss: 0.5297 - accuracy: 0.8365 - val_loss: 0.6051 - val_accuracy: 0.8212\n",
            "Epoch 24/40\n",
            "346/346 [==============================] - 3s 9ms/step - loss: 0.5212 - accuracy: 0.8397 - val_loss: 0.5301 - val_accuracy: 0.8400\n",
            "Epoch 25/40\n",
            "346/346 [==============================] - 3s 9ms/step - loss: 0.5003 - accuracy: 0.8469 - val_loss: 0.5870 - val_accuracy: 0.8205\n",
            "Epoch 26/40\n",
            "346/346 [==============================] - 3s 10ms/step - loss: 0.5093 - accuracy: 0.8420 - val_loss: 0.5646 - val_accuracy: 0.8303\n",
            "Epoch 27/40\n",
            "346/346 [==============================] - 3s 9ms/step - loss: 0.4904 - accuracy: 0.8541 - val_loss: 0.5075 - val_accuracy: 0.8491\n",
            "Epoch 28/40\n",
            "346/346 [==============================] - 3s 9ms/step - loss: 0.4835 - accuracy: 0.8569 - val_loss: 0.4961 - val_accuracy: 0.8444\n",
            "Epoch 29/40\n",
            "346/346 [==============================] - 3s 9ms/step - loss: 0.4952 - accuracy: 0.8526 - val_loss: 0.5441 - val_accuracy: 0.8408\n",
            "Epoch 30/40\n",
            "346/346 [==============================] - 4s 11ms/step - loss: 0.4865 - accuracy: 0.8552 - val_loss: 0.5430 - val_accuracy: 0.8295\n",
            "Epoch 31/40\n",
            "346/346 [==============================] - 3s 9ms/step - loss: 0.4816 - accuracy: 0.8602 - val_loss: 0.5591 - val_accuracy: 0.8332\n",
            "Epoch 32/40\n",
            "346/346 [==============================] - 3s 9ms/step - loss: 0.5057 - accuracy: 0.8548 - val_loss: 0.5244 - val_accuracy: 0.8476\n",
            "Epoch 33/40\n",
            "346/346 [==============================] - 3s 9ms/step - loss: 0.4901 - accuracy: 0.8599 - val_loss: 0.5292 - val_accuracy: 0.8473\n",
            "Epoch 34/40\n",
            "346/346 [==============================] - 4s 12ms/step - loss: 0.4456 - accuracy: 0.8699 - val_loss: 0.5417 - val_accuracy: 0.8585\n",
            "Epoch 35/40\n",
            "346/346 [==============================] - 3s 9ms/step - loss: 0.4481 - accuracy: 0.8695 - val_loss: 0.5236 - val_accuracy: 0.8549\n",
            "Epoch 36/40\n",
            "346/346 [==============================] - 3s 9ms/step - loss: 0.4638 - accuracy: 0.8687 - val_loss: 0.5706 - val_accuracy: 0.8498\n",
            "Epoch 37/40\n",
            "346/346 [==============================] - 3s 9ms/step - loss: 0.4887 - accuracy: 0.8624 - val_loss: 0.5777 - val_accuracy: 0.8303\n",
            "Epoch 38/40\n",
            "346/346 [==============================] - 3s 9ms/step - loss: 0.4416 - accuracy: 0.8765 - val_loss: 0.5535 - val_accuracy: 0.8404\n",
            "Epoch 39/40\n",
            "346/346 [==============================] - 3s 9ms/step - loss: 0.4797 - accuracy: 0.8675 - val_loss: 0.5675 - val_accuracy: 0.8422\n",
            "Epoch 40/40\n",
            "346/346 [==============================] - 3s 9ms/step - loss: 0.5405 - accuracy: 0.8513 - val_loss: 0.5341 - val_accuracy: 0.8534\n"
          ]
        }
      ],
      "source": [
        "# training model\n",
        "history = model.fit(x_train, y_train, epochs=40, validation_data=(x_test,  y_test))"
      ]
    },
    {
      "cell_type": "code",
      "execution_count": 25,
      "metadata": {
        "colab": {
          "base_uri": "https://localhost:8080/",
          "height": 472
        },
        "id": "54HBn0kZf_DR",
        "outputId": "0cb402d0-7abf-4848-e656-58cc51084d86"
      },
      "outputs": [
        {
          "name": "stdout",
          "output_type": "stream",
          "text": [
            "87/87 - 0s - loss: 0.5341 - accuracy: 0.8534 - 325ms/epoch - 4ms/step\n"
          ]
        },
        {
          "data": {
            "image/png": "[encoded data removed]",
            "text/plain": [
              "<Figure size 640x480 with 1 Axes>"
            ]
          },
          "metadata": {},
          "output_type": "display_data"
        }
      ],
      "source": [
        "# plotting evaluation graph\n",
        "plt.plot(history.history['accuracy'], label='accuracy')\n",
        "plt.plot(history.history['val_accuracy'], label = 'val_accuracy')\n",
        "plt.xlabel('Epoch')\n",
        "plt.ylabel('Accuracy')\n",
        "plt.ylim([0.5, 1])\n",
        "plt.legend(loc='lower right')\n",
        "\n",
        "# Evaluating the model\n",
        "test_loss, test_acc = model.evaluate(x_test,  y_test, verbose=2)"
      ]
    },
    {
      "cell_type": "code",
      "execution_count": 26,
      "metadata": {
        "id": "LjMQkbrsyGx9"
      },
      "outputs": [],
      "source": [
        "def predict(img):\n",
        "  img = cv.imread(img)\n",
        "  img = cv.resize(img, (30, 30))\n",
        "  img = cv.cvtColor(img, cv.COLOR_BGR2RGB)\n",
        "  img = np.expand_dims(img, axis=0)\n",
        "  predictions = model.predict(img)\n",
        "  predictions = classses[np.argmax(predictions)]\n",
        "  return predictions"
      ]
    },
    {
      "cell_type": "code",
      "execution_count": 27,
      "metadata": {
        "colab": {
          "base_uri": "https://localhost:8080/",
          "height": 467
        },
        "id": "88voSxCiwDx_",
        "outputId": "3046199e-5592-45b2-da07-1546cb152084"
      },
      "outputs": [
        {
          "data": {
            "image/png": "[encoded data removed]",
            "text/plain": [
              "<Figure size 640x480 with 1 Axes>"
            ]
          },
          "metadata": {},
          "output_type": "display_data"
        },
        {
          "name": "stdout",
          "output_type": "stream",
          "text": [
            "1/1 [==============================] - 0s 84ms/step\n",
            "bart_simpson\n"
          ]
        }
      ],
      "source": [
        "test_img = r\"/content/test.png\"\n",
        "\n",
        "image = cv.imread(test_img)\n",
        "image = cv.resize(image, (60,60))\n",
        "image = cv.cvtColor(image, cv.COLOR_BGR2RGB)\n",
        "plt.imshow(image)\n",
        "plt.show()\n",
        "\n",
        "prediction = predict(test_img)\n",
        "print(prediction)"
      ]
    },
    {
      "cell_type": "code",
      "execution_count": 28,
      "metadata": {
        "id": "9xralba23FTK"
      },
      "outputs": [],
      "source": [
        "filename = \"simpsons.h5\"\n",
        "model.save(filename)"
      ]
    }
  ],
  "metadata": {
    "accelerator": "GPU",
    "colab": {
      "provenance": []
    },
    "gpuClass": "standard",
    "kernelspec": {
      "display_name": "Python 3",
      "name": "python3"
    },
    "language_info": {
      "name": "python"
    }
  },
  "nbformat": 4,
  "nbformat_minor": 0
}
