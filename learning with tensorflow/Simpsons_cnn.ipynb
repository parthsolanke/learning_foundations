{
  "cells": [
    {
      "cell_type": "code",
      "execution_count": 25,
      "metadata": {
        "id": "v5KDn4vJKJrE"
      },
      "outputs": [],
      "source": [
        "import os\n",
        "import tensorflow as tf\n",
        "from sklearn.model_selection import train_test_split\n",
        "import cv2 as cv\n",
        "import numpy as np\n",
        "import matplotlib.pyplot as plt"
      ]
    },
    {
      "cell_type": "code",
      "execution_count": 2,
      "metadata": {
        "colab": {
          "base_uri": "https://localhost:8080/"
        },
        "id": "D0-zSN3hKrkH",
        "outputId": "30864fe6-95b7-481e-80c4-0dbfb5c7fa2f"
      },
      "outputs": [
        {
          "output_type": "stream",
          "name": "stdout",
          "text": [
            "Mounted at /content/drive\n"
          ]
        }
      ],
      "source": [
        "from google.colab import drive\n",
        "drive.mount('/content/drive')"
      ]
    },
    {
      "cell_type": "code",
      "execution_count": 10,
      "metadata": {
        "id": "r4KMdaFQSDL4"
      },
      "outputs": [],
      "source": [
        "# setting up kaggle to download dataset\n",
        "!pip install -q kaggle\n",
        "!mkdir -p ~/.kaggle\n",
        "!cp kaggle.json ~/.kaggle/\n",
        "!chmod 600 ~/.kaggle/kaggle.json"
      ]
    },
    {
      "cell_type": "code",
      "execution_count": 11,
      "metadata": {
        "colab": {
          "base_uri": "https://localhost:8080/"
        },
        "id": "BNqOHKOXYTcP",
        "outputId": "48a95981-9dc8-477b-8c74-1b3d21b6831b"
      },
      "outputs": [
        {
          "output_type": "stream",
          "name": "stdout",
          "text": [
            "Downloading the-simpsons-characters-dataset.zip to /content/drive/MyDrive/Simpsons\n",
            "100% 1.08G/1.08G [01:01<00:00, 19.8MB/s]\n",
            "100% 1.08G/1.08G [01:01<00:00, 18.9MB/s]\n"
          ]
        }
      ],
      "source": [
        "# downloading dataset\n",
        "!kaggle datasets download -d alexattia/the-simpsons-characters-dataset -p /content/drive/MyDrive/Simpsons"
      ]
    },
    {
      "cell_type": "code",
      "execution_count": null,
      "metadata": {
        "id": "rEjse8x1Zbww"
      },
      "outputs": [],
      "source": [
        "# unzipping the dataset\n",
        "!unzip /content/drive/MyDrive/Simpsons/the-simpsons-characters-dataset.zip -d /content/drive/MyDrive/Simpsons/the-simpsons-characters-dataset/"
      ]
    },
    {
      "cell_type": "code",
      "execution_count": 3,
      "metadata": {
        "id": "rpDA3JYsMZCX"
      },
      "outputs": [],
      "source": [
        "# initializing variables\n",
        "IMG_SIZE = (60, 60)\n",
        "CHANNELS = 1\n",
        "data_dir = r'/content/drive/MyDrive/Simpsons/the-simpsons-characters-dataset/simpsons_dataset'\n",
        "TEST_SIZE = 0.4"
      ]
    },
    {
      "cell_type": "code",
      "execution_count": 4,
      "metadata": {
        "id": "RA5slMiMBdtl"
      },
      "outputs": [],
      "source": [
        "def load_data():\n",
        "  # storing character name and quantity in a dictonary\n",
        "  data_dict = {}\n",
        "  for data in os.listdir(data_dir):\n",
        "    data_dict[data] = len(os.listdir(os.path.join(data_dir, data)))\n",
        "\n",
        "  # sorting dictonary in decending order of values of dictonary\n",
        "  data_dict = sorted(data_dict.items(), key=lambda x:x[1], reverse=True)\n",
        "\n",
        "  # getting top 10 classes with max samples \n",
        "  classes = []\n",
        "  count = 0\n",
        "  for i in data_dict:\n",
        "    classes.append(i[0])\n",
        "    count += 1\n",
        "    if count >= 10:\n",
        "      break\n",
        "  print(\"top 10 classes:\", classes)\n",
        "\n",
        "  # loading data\n",
        "  features = []\n",
        "  labels = []\n",
        "  for folder in classes:\n",
        "    folder_path = os.path.join(data_dir, folder)\n",
        "    folder_label = classes.index(folder)\n",
        "    # message\n",
        "    if os.path.isdir(folder_path):\n",
        "      print(f\"Loading files from {folder_path}\")\n",
        "    # appending data with features and labels\n",
        "    for file in os.listdir(folder_path):\n",
        "      # preprocessing data\n",
        "      img = cv.imread(os.path.join(folder_path, file))\n",
        "      img = cv.resize(img, IMG_SIZE)\n",
        "      img = cv.cvtColor(img, cv.COLOR_BGR2GRAY)\n",
        "      features.append(img)\n",
        "      labels.append(folder_label)\n",
        "\n",
        "  return features, labels, classes"
      ]
    },
    {
      "cell_type": "code",
      "execution_count": 5,
      "metadata": {
        "colab": {
          "base_uri": "https://localhost:8080/"
        },
        "id": "-cogE1noiEkX",
        "outputId": "0355ba05-5c1f-43e0-f1fd-4065a7d5e0f0"
      },
      "outputs": [
        {
          "output_type": "stream",
          "name": "stdout",
          "text": [
            "top 10 classes: ['homer_simpson', 'ned_flanders', 'moe_szyslak', 'lisa_simpson', 'bart_simpson', 'marge_simpson', 'krusty_the_clown', 'principal_skinner', 'charles_montgomery_burns', 'milhouse_van_houten']\n",
            "Loading files from /content/drive/MyDrive/Simpsons/the-simpsons-characters-dataset/simpsons_dataset/homer_simpson\n",
            "Loading files from /content/drive/MyDrive/Simpsons/the-simpsons-characters-dataset/simpsons_dataset/ned_flanders\n",
            "Loading files from /content/drive/MyDrive/Simpsons/the-simpsons-characters-dataset/simpsons_dataset/moe_szyslak\n",
            "Loading files from /content/drive/MyDrive/Simpsons/the-simpsons-characters-dataset/simpsons_dataset/lisa_simpson\n",
            "Loading files from /content/drive/MyDrive/Simpsons/the-simpsons-characters-dataset/simpsons_dataset/bart_simpson\n",
            "Loading files from /content/drive/MyDrive/Simpsons/the-simpsons-characters-dataset/simpsons_dataset/marge_simpson\n",
            "Loading files from /content/drive/MyDrive/Simpsons/the-simpsons-characters-dataset/simpsons_dataset/krusty_the_clown\n",
            "Loading files from /content/drive/MyDrive/Simpsons/the-simpsons-characters-dataset/simpsons_dataset/principal_skinner\n",
            "Loading files from /content/drive/MyDrive/Simpsons/the-simpsons-characters-dataset/simpsons_dataset/charles_montgomery_burns\n",
            "Loading files from /content/drive/MyDrive/Simpsons/the-simpsons-characters-dataset/simpsons_dataset/milhouse_van_houten\n"
          ]
        }
      ],
      "source": [
        "# loading data\n",
        "features, labels, classses = load_data()\n",
        "\n",
        "# converting integer labeles to binary matrices to use categorical_crossentropy loss fn\n",
        "labels = tf.keras.utils.to_categorical(labels)\n",
        "\n",
        "# performing train test split\n",
        "x_train, x_test, y_train, y_test =  train_test_split(np.array(features), np.array(labels), test_size=TEST_SIZE)"
      ]
    },
    {
      "cell_type": "code",
      "execution_count": 6,
      "metadata": {
        "colab": {
          "base_uri": "https://localhost:8080/",
          "height": 467
        },
        "id": "per6InWF3vPk",
        "outputId": "03386128-a85d-4f0a-8055-a704c32bada6"
      },
      "outputs": [
        {
          "output_type": "stream",
          "name": "stdout",
          "text": [
            "13811 13811\n",
            "image shape: (60, 60)\n"
          ]
        },
        {
          "output_type": "display_data",
          "data": {
            "text/plain": [
              "<Figure size 640x480 with 1 Axes>"
            ],
            "image/png": "[encoded data removed]"
          },
          "metadata": {}
        }
      ],
      "source": [
        "print(len(features), len(labels))\n",
        "print(\"image shape:\", features[0].shape)\n",
        "plt.imshow(features[0])\n",
        "plt.show()"
      ]
    },
    {
      "cell_type": "code",
      "execution_count": 55,
      "metadata": {
        "id": "sPsV5r9-7Irs"
      },
      "outputs": [],
      "source": [
        "def get_model():\n",
        "    # defining model\n",
        "    model = tf.keras.models.Sequential([\n",
        "        \n",
        "        # adding convolutional layer with 128 filters by 3x3 kernal\n",
        "        tf.keras.layers.Conv2D(128, (3,3), activation=\"relu\", input_shape=(60, 60, 1)),\n",
        "        \n",
        "        # adding max_pooling layer with pool size 2x2 with 10% dropout\n",
        "        tf.keras.layers.MaxPooling2D(pool_size=(2, 2)),\n",
        "        tf.keras.layers.Dropout(0.10),\n",
        "        \n",
        "        # adding convolutional layer with 252 filters by 3x3 kernal\n",
        "        tf.keras.layers.Conv2D(252, (3,3), activation=\"relu\"),\n",
        "        \n",
        "        # adding max_pooling layer with pool size 2x2 with 25% dropout\n",
        "        tf.keras.layers.MaxPooling2D(pool_size=(2, 2)),\n",
        "        tf.keras.layers.Dropout(0.25),\n",
        "\n",
        "        # adding convolutional layer with 256 filters by 6x6 kernal\n",
        "        tf.keras.layers.Conv2D(512, (3,3), activation=\"relu\"),\n",
        "        \n",
        "        # adding max_pooling layer with pool size 2x2 with 10% dropout\n",
        "        tf.keras.layers.MaxPooling2D(pool_size=(2, 2)),\n",
        "        tf.keras.layers.Dropout(0.10),\n",
        "\n",
        "        # flattening all the units with dropout with 30%\n",
        "        tf.keras.layers.Flatten(),\n",
        "        \n",
        "        # adding hidden layer with 1024 units with 45% dropout\n",
        "        tf.keras.layers.Dense(1024, activation=\"relu\"),\n",
        "        tf.keras.layers.Dropout(0.45),\n",
        "\n",
        "        # adding hidden layer with 512 units with 25% dropout\n",
        "        tf.keras.layers.Dense(1024, activation=\"relu\"),\n",
        "        tf.keras.layers.Dropout(0.25),\n",
        "        \n",
        "        # adding output layer with 10 units to get probablity for 10 digits with softmax activation fn\n",
        "        tf.keras.layers.Dense(10, activation=\"softmax\")\n",
        "    ])\n",
        "    \n",
        "    # compiling model\n",
        "    model.compile(\n",
        "        optimizer=\"adam\",\n",
        "        loss=\"categorical_crossentropy\",\n",
        "        metrics=[\"accuracy\"]\n",
        "    )\n",
        "    \n",
        "    # getting model summary\n",
        "    model.summary()\n",
        "    return model"
      ]
    },
    {
      "cell_type": "code",
      "execution_count": 56,
      "metadata": {
        "colab": {
          "base_uri": "https://localhost:8080/"
        },
        "id": "Cj7Ohibvd3Lc",
        "outputId": "e0f878fe-2154-486b-839d-5835579c051a"
      },
      "outputs": [
        {
          "output_type": "stream",
          "name": "stdout",
          "text": [
            "Model: \"sequential_6\"\n",
            "_________________________________________________________________\n",
            " Layer (type)                Output Shape              Param #   \n",
            "=================================================================\n",
            " conv2d_16 (Conv2D)          (None, 58, 58, 128)       1280      \n",
            "                                                                 \n",
            " max_pooling2d_16 (MaxPoolin  (None, 29, 29, 128)      0         \n",
            " g2D)                                                            \n",
            "                                                                 \n",
            " dropout_19 (Dropout)        (None, 29, 29, 128)       0         \n",
            "                                                                 \n",
            " conv2d_17 (Conv2D)          (None, 27, 27, 252)       290556    \n",
            "                                                                 \n",
            " max_pooling2d_17 (MaxPoolin  (None, 13, 13, 252)      0         \n",
            " g2D)                                                            \n",
            "                                                                 \n",
            " dropout_20 (Dropout)        (None, 13, 13, 252)       0         \n",
            "                                                                 \n",
            " conv2d_18 (Conv2D)          (None, 11, 11, 512)       1161728   \n",
            "                                                                 \n",
            " max_pooling2d_18 (MaxPoolin  (None, 5, 5, 512)        0         \n",
            " g2D)                                                            \n",
            "                                                                 \n",
            " dropout_21 (Dropout)        (None, 5, 5, 512)         0         \n",
            "                                                                 \n",
            " flatten_6 (Flatten)         (None, 12800)             0         \n",
            "                                                                 \n",
            " dense_18 (Dense)            (None, 1024)              13108224  \n",
            "                                                                 \n",
            " dropout_22 (Dropout)        (None, 1024)              0         \n",
            "                                                                 \n",
            " dense_19 (Dense)            (None, 1024)              1049600   \n",
            "                                                                 \n",
            " dropout_23 (Dropout)        (None, 1024)              0         \n",
            "                                                                 \n",
            " dense_20 (Dense)            (None, 10)                10250     \n",
            "                                                                 \n",
            "=================================================================\n",
            "Total params: 15,621,638\n",
            "Trainable params: 15,621,638\n",
            "Non-trainable params: 0\n",
            "_________________________________________________________________\n"
          ]
        }
      ],
      "source": [
        "# getting model\n",
        "model = get_model()"
      ]
    },
    {
      "cell_type": "code",
      "execution_count": 57,
      "metadata": {
        "colab": {
          "base_uri": "https://localhost:8080/"
        },
        "id": "niPXIR0RfCb5",
        "outputId": "3991284a-5510-40e9-bcd3-0437a716d135"
      },
      "outputs": [
        {
          "output_type": "stream",
          "name": "stdout",
          "text": [
            "Epoch 1/40\n",
            "259/259 [==============================] - 10s 27ms/step - loss: 3.7443 - accuracy: 0.1535 - val_loss: 2.2821 - val_accuracy: 0.1678\n",
            "Epoch 2/40\n",
            "259/259 [==============================] - 7s 28ms/step - loss: 2.2861 - accuracy: 0.1609 - val_loss: 2.2650 - val_accuracy: 0.1698\n",
            "Epoch 3/40\n",
            "259/259 [==============================] - 7s 27ms/step - loss: 2.2528 - accuracy: 0.1774 - val_loss: 2.1917 - val_accuracy: 0.2105\n",
            "Epoch 4/40\n",
            "259/259 [==============================] - 7s 27ms/step - loss: 2.2187 - accuracy: 0.1891 - val_loss: 2.1692 - val_accuracy: 0.2063\n",
            "Epoch 5/40\n",
            "259/259 [==============================] - 7s 27ms/step - loss: 2.1906 - accuracy: 0.2003 - val_loss: 2.1267 - val_accuracy: 0.2290\n",
            "Epoch 6/40\n",
            "259/259 [==============================] - 9s 34ms/step - loss: 2.1166 - accuracy: 0.2370 - val_loss: 2.0288 - val_accuracy: 0.2833\n",
            "Epoch 7/40\n",
            "259/259 [==============================] - 10s 39ms/step - loss: 2.0506 - accuracy: 0.2673 - val_loss: 2.0185 - val_accuracy: 0.2912\n",
            "Epoch 8/40\n",
            "259/259 [==============================] - 7s 28ms/step - loss: 1.9386 - accuracy: 0.3173 - val_loss: 1.8817 - val_accuracy: 0.3234\n",
            "Epoch 9/40\n",
            "259/259 [==============================] - 7s 27ms/step - loss: 1.8305 - accuracy: 0.3640 - val_loss: 1.7655 - val_accuracy: 0.3922\n",
            "Epoch 10/40\n",
            "259/259 [==============================] - 7s 29ms/step - loss: 1.7490 - accuracy: 0.3979 - val_loss: 1.7954 - val_accuracy: 0.3801\n",
            "Epoch 11/40\n",
            "259/259 [==============================] - 7s 28ms/step - loss: 1.6049 - accuracy: 0.4503 - val_loss: 1.5740 - val_accuracy: 0.4775\n",
            "Epoch 12/40\n",
            "259/259 [==============================] - 7s 27ms/step - loss: 1.4929 - accuracy: 0.4853 - val_loss: 1.5755 - val_accuracy: 0.4700\n",
            "Epoch 13/40\n",
            "259/259 [==============================] - 8s 30ms/step - loss: 1.3454 - accuracy: 0.5437 - val_loss: 1.4674 - val_accuracy: 0.5224\n",
            "Epoch 14/40\n",
            "259/259 [==============================] - 7s 28ms/step - loss: 1.2131 - accuracy: 0.5903 - val_loss: 1.4497 - val_accuracy: 0.5231\n",
            "Epoch 15/40\n",
            "259/259 [==============================] - 7s 28ms/step - loss: 1.0843 - accuracy: 0.6350 - val_loss: 1.3790 - val_accuracy: 0.5627\n",
            "Epoch 16/40\n",
            "259/259 [==============================] - 7s 28ms/step - loss: 0.9984 - accuracy: 0.6691 - val_loss: 1.2973 - val_accuracy: 0.5908\n",
            "Epoch 17/40\n",
            "259/259 [==============================] - 7s 27ms/step - loss: 0.8767 - accuracy: 0.7145 - val_loss: 1.2701 - val_accuracy: 0.5984\n",
            "Epoch 18/40\n",
            "259/259 [==============================] - 7s 28ms/step - loss: 0.7789 - accuracy: 0.7470 - val_loss: 1.2374 - val_accuracy: 0.6246\n",
            "Epoch 19/40\n",
            "259/259 [==============================] - 7s 27ms/step - loss: 0.6960 - accuracy: 0.7761 - val_loss: 1.2525 - val_accuracy: 0.6203\n",
            "Epoch 20/40\n",
            "259/259 [==============================] - 7s 28ms/step - loss: 0.6637 - accuracy: 0.7867 - val_loss: 1.1772 - val_accuracy: 0.6427\n",
            "Epoch 21/40\n",
            "259/259 [==============================] - 7s 28ms/step - loss: 0.5798 - accuracy: 0.8144 - val_loss: 1.2696 - val_accuracy: 0.6434\n",
            "Epoch 22/40\n",
            "259/259 [==============================] - 7s 28ms/step - loss: 0.5928 - accuracy: 0.8139 - val_loss: 1.1868 - val_accuracy: 0.6509\n",
            "Epoch 23/40\n",
            "259/259 [==============================] - 7s 27ms/step - loss: 0.5411 - accuracy: 0.8312 - val_loss: 1.2360 - val_accuracy: 0.6434\n",
            "Epoch 24/40\n",
            "259/259 [==============================] - 7s 28ms/step - loss: 0.4858 - accuracy: 0.8460 - val_loss: 1.4275 - val_accuracy: 0.6167\n",
            "Epoch 25/40\n",
            "259/259 [==============================] - 7s 26ms/step - loss: 0.4830 - accuracy: 0.8479 - val_loss: 1.1899 - val_accuracy: 0.6581\n",
            "Epoch 26/40\n",
            "259/259 [==============================] - 7s 28ms/step - loss: 0.4312 - accuracy: 0.8645 - val_loss: 1.2600 - val_accuracy: 0.6516\n",
            "Epoch 27/40\n",
            "259/259 [==============================] - 7s 28ms/step - loss: 0.4067 - accuracy: 0.8746 - val_loss: 1.2336 - val_accuracy: 0.6514\n",
            "Epoch 28/40\n",
            "259/259 [==============================] - 7s 27ms/step - loss: 0.3859 - accuracy: 0.8845 - val_loss: 1.2246 - val_accuracy: 0.6619\n",
            "Epoch 29/40\n",
            "259/259 [==============================] - 7s 27ms/step - loss: 0.4012 - accuracy: 0.8827 - val_loss: 1.2636 - val_accuracy: 0.6449\n",
            "Epoch 30/40\n",
            "259/259 [==============================] - 7s 27ms/step - loss: 0.3898 - accuracy: 0.8802 - val_loss: 1.3307 - val_accuracy: 0.6271\n",
            "Epoch 31/40\n",
            "259/259 [==============================] - 7s 28ms/step - loss: 0.3595 - accuracy: 0.8911 - val_loss: 1.2501 - val_accuracy: 0.6748\n",
            "Epoch 32/40\n",
            "259/259 [==============================] - 7s 28ms/step - loss: 0.3542 - accuracy: 0.8938 - val_loss: 1.2227 - val_accuracy: 0.6733\n",
            "Epoch 33/40\n",
            "259/259 [==============================] - 7s 28ms/step - loss: 0.3707 - accuracy: 0.8954 - val_loss: 1.2107 - val_accuracy: 0.6641\n",
            "Epoch 34/40\n",
            "259/259 [==============================] - 8s 30ms/step - loss: 0.3324 - accuracy: 0.9059 - val_loss: 1.3398 - val_accuracy: 0.6474\n",
            "Epoch 35/40\n",
            "259/259 [==============================] - 7s 26ms/step - loss: 0.3164 - accuracy: 0.9062 - val_loss: 1.2961 - val_accuracy: 0.6617\n",
            "Epoch 36/40\n",
            "259/259 [==============================] - 7s 29ms/step - loss: 0.2994 - accuracy: 0.9125 - val_loss: 1.3221 - val_accuracy: 0.6563\n",
            "Epoch 37/40\n",
            "259/259 [==============================] - 7s 26ms/step - loss: 0.3418 - accuracy: 0.9027 - val_loss: 1.1891 - val_accuracy: 0.6699\n",
            "Epoch 38/40\n",
            "259/259 [==============================] - 7s 28ms/step - loss: 0.3386 - accuracy: 0.9025 - val_loss: 1.3640 - val_accuracy: 0.6396\n",
            "Epoch 39/40\n",
            "259/259 [==============================] - 7s 26ms/step - loss: 0.3021 - accuracy: 0.9172 - val_loss: 1.3347 - val_accuracy: 0.6603\n",
            "Epoch 40/40\n",
            "259/259 [==============================] - 7s 29ms/step - loss: 0.2988 - accuracy: 0.9158 - val_loss: 1.2767 - val_accuracy: 0.6700\n"
          ]
        }
      ],
      "source": [
        "# training model\n",
        "history = model.fit(x_train, y_train, epochs=40, validation_data=(x_test,  y_test))"
      ]
    },
    {
      "cell_type": "code",
      "execution_count": 58,
      "metadata": {
        "id": "54HBn0kZf_DR",
        "colab": {
          "base_uri": "https://localhost:8080/",
          "height": 472
        },
        "outputId": "c5e40a53-e549-4c91-ae16-d4b9e707f347"
      },
      "outputs": [
        {
          "output_type": "stream",
          "name": "stdout",
          "text": [
            "173/173 - 1s - loss: 1.2767 - accuracy: 0.6700 - 1s/epoch - 6ms/step\n"
          ]
        },
        {
          "output_type": "display_data",
          "data": {
            "text/plain": [
              "<Figure size 640x480 with 1 Axes>"
            ],
            "image/png": "[encoded data removed]"
          },
          "metadata": {}
        }
      ],
      "source": [
        "# plotting evaluation graph\n",
        "plt.plot(history.history['accuracy'], label='accuracy')\n",
        "plt.plot(history.history['val_accuracy'], label = 'val_accuracy')\n",
        "plt.xlabel('Epoch')\n",
        "plt.ylabel('Accuracy')\n",
        "plt.ylim([0.5, 1])\n",
        "plt.legend(loc='lower right')\n",
        "\n",
        "# Evaluating the model\n",
        "test_loss, test_acc = model.evaluate(x_test,  y_test, verbose=2)"
      ]
    },
    {
      "cell_type": "code",
      "source": [
        "def predict(img):\n",
        "  img = cv.imread(img)\n",
        "  img = cv.resize(img, (60, 60))\n",
        "  img = cv.cvtColor(img, cv.COLOR_BGR2GRAY)\n",
        "  img = np.expand_dims(img, axis=0)\n",
        "  predictions = model.predict(img)\n",
        "  predictions = classses[np.argmax(predictions)]\n",
        "  return predictions"
      ],
      "metadata": {
        "id": "LjMQkbrsyGx9"
      },
      "execution_count": 59,
      "outputs": []
    },
    {
      "cell_type": "code",
      "source": [
        "test_img = r\"/content/test.png\"\n",
        "\n",
        "image = cv.imread(test_img)\n",
        "image = cv.resize(image, (60,60))\n",
        "image = cv.cvtColor(image, cv.COLOR_BGR2RGB)\n",
        "plt.imshow(image)\n",
        "plt.show()\n",
        "\n",
        "prediction = predict(test_img)\n",
        "print(prediction)"
      ],
      "metadata": {
        "colab": {
          "base_uri": "https://localhost:8080/",
          "height": 467
        },
        "id": "88voSxCiwDx_",
        "outputId": "11befbb4-9a76-4478-9685-a72efa21a6c4"
      },
      "execution_count": 60,
      "outputs": [
        {
          "output_type": "display_data",
          "data": {
            "text/plain": [
              "<Figure size 640x480 with 1 Axes>"
            ],
            "image/png": "[encoded data removed]"
          },
          "metadata": {}
        },
        {
          "output_type": "stream",
          "name": "stdout",
          "text": [
            "1/1 [==============================] - 0s 82ms/step\n",
            "lisa_simpson\n"
          ]
        }
      ]
    },
    {
      "cell_type": "code",
      "source": [
        "filename = \"simpsons.h5\"\n",
        "model.save(filename)"
      ],
      "metadata": {
        "id": "9xralba23FTK"
      },
      "execution_count": 63,
      "outputs": []
    }
  ],
  "metadata": {
    "accelerator": "GPU",
    "colab": {
      "provenance": []
    },
    "gpuClass": "standard",
    "kernelspec": {
      "display_name": "Python 3",
      "name": "python3"
    },
    "language_info": {
      "name": "python"
    }
  },
  "nbformat": 4,
  "nbformat_minor": 0
}