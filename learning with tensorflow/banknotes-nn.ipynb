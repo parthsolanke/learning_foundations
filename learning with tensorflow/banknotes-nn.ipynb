{
 "cells": [
  {
   "cell_type": "code",
   "execution_count": 15,
   "metadata": {},
   "outputs": [],
   "source": [
    "import csv\n",
    "import tensorflow as tf\n",
    "import matplotlib.pyplot as plt\n",
    "from sklearn.model_selection import train_test_split"
   ]
  },
  {
   "cell_type": "code",
   "execution_count": 16,
   "metadata": {},
   "outputs": [],
   "source": [
    "# reading data from file\n",
    "with open(r\"data\\BankNote_Authentication.csv\") as f:\n",
    "    reader = csv.reader(f)\n",
    "    next(reader)\n",
    "    \n",
    "    data = []\n",
    "    for row in reader:\n",
    "        data.append({\n",
    "            \"feature\": [float(cell) for cell in row[:4]],\n",
    "            \"label\": 1 if row[4] == \"0\" else 0\n",
    "        })"
   ]
  },
  {
   "cell_type": "code",
   "execution_count": 17,
   "metadata": {},
   "outputs": [],
   "source": [
    "# performing train, test split\n",
    "feature = [row[\"feature\"] for row in data]\n",
    "label = [row[\"label\"] for row in data]\n",
    "\n",
    "x_training, x_testing, y_training, y_testing = train_test_split(feature, label, test_size=0.30)"
   ]
  },
  {
   "cell_type": "code",
   "execution_count": 18,
   "metadata": {},
   "outputs": [],
   "source": [
    "# preparing neural network\n",
    "model = tf.keras.models.Sequential()\n",
    "# hidden layer with 8 artificial neurons each with ReLu activation getting 4 inputs from features\n",
    "model.add(tf.keras.layers.Dense(8, input_shape=(4,), activation=\"relu\"))\n",
    "# output layer to return probablity between 0 and 1 hence with sigmoid activation\n",
    "model.add(tf.keras.layers.Dense(1, activation=\"sigmoid\"))"
   ]
  },
  {
   "cell_type": "code",
   "execution_count": 19,
   "metadata": {},
   "outputs": [
    {
     "name": "stdout",
     "output_type": "stream",
     "text": [
      "Model: \"sequential_2\"\n",
      "_________________________________________________________________\n",
      " Layer (type)                Output Shape              Param #   \n",
      "=================================================================\n",
      " dense_4 (Dense)             (None, 8)                 40        \n",
      "                                                                 \n",
      " dense_5 (Dense)             (None, 1)                 9         \n",
      "                                                                 \n",
      "=================================================================\n",
      "Total params: 49\n",
      "Trainable params: 49\n",
      "Non-trainable params: 0\n",
      "_________________________________________________________________\n"
     ]
    }
   ],
   "source": [
    "# compiling the model\n",
    "model.compile(\n",
    "    optimizer=\"adam\",\n",
    "    loss=\"binary_crossentropy\",\n",
    "    metrics=[\"accuracy\"]\n",
    ")\n",
    "\n",
    "model.summary()"
   ]
  },
  {
   "cell_type": "code",
   "execution_count": 20,
   "metadata": {},
   "outputs": [
    {
     "name": "stdout",
     "output_type": "stream",
     "text": [
      "Epoch 1/20\n",
      "30/30 [==============================] - 0s 5ms/step - loss: 0.7506 - accuracy: 0.4719 - val_loss: 0.6878 - val_accuracy: 0.5510\n",
      "Epoch 2/20\n",
      "30/30 [==============================] - 0s 2ms/step - loss: 0.6184 - accuracy: 0.6271 - val_loss: 0.5893 - val_accuracy: 0.6917\n",
      "Epoch 3/20\n",
      "30/30 [==============================] - 0s 2ms/step - loss: 0.5467 - accuracy: 0.7198 - val_loss: 0.5291 - val_accuracy: 0.7233\n",
      "Epoch 4/20\n",
      "30/30 [==============================] - 0s 2ms/step - loss: 0.4966 - accuracy: 0.7573 - val_loss: 0.4863 - val_accuracy: 0.7500\n",
      "Epoch 5/20\n",
      "30/30 [==============================] - 0s 2ms/step - loss: 0.4589 - accuracy: 0.7844 - val_loss: 0.4509 - val_accuracy: 0.7864\n",
      "Epoch 6/20\n",
      "30/30 [==============================] - 0s 2ms/step - loss: 0.4269 - accuracy: 0.8062 - val_loss: 0.4203 - val_accuracy: 0.8180\n",
      "Epoch 7/20\n",
      "30/30 [==============================] - 0s 2ms/step - loss: 0.3986 - accuracy: 0.8292 - val_loss: 0.3918 - val_accuracy: 0.8325\n",
      "Epoch 8/20\n",
      "30/30 [==============================] - 0s 2ms/step - loss: 0.3725 - accuracy: 0.8438 - val_loss: 0.3650 - val_accuracy: 0.8422\n",
      "Epoch 9/20\n",
      "30/30 [==============================] - 0s 2ms/step - loss: 0.3478 - accuracy: 0.8542 - val_loss: 0.3393 - val_accuracy: 0.8568\n",
      "Epoch 10/20\n",
      "30/30 [==============================] - 0s 2ms/step - loss: 0.3227 - accuracy: 0.8687 - val_loss: 0.3132 - val_accuracy: 0.8714\n",
      "Epoch 11/20\n",
      "30/30 [==============================] - 0s 2ms/step - loss: 0.2987 - accuracy: 0.8833 - val_loss: 0.2891 - val_accuracy: 0.8859\n",
      "Epoch 12/20\n",
      "30/30 [==============================] - 0s 2ms/step - loss: 0.2760 - accuracy: 0.8969 - val_loss: 0.2670 - val_accuracy: 0.8956\n",
      "Epoch 13/20\n",
      "30/30 [==============================] - 0s 2ms/step - loss: 0.2552 - accuracy: 0.9083 - val_loss: 0.2467 - val_accuracy: 0.9102\n",
      "Epoch 14/20\n",
      "30/30 [==============================] - 0s 2ms/step - loss: 0.2357 - accuracy: 0.9198 - val_loss: 0.2273 - val_accuracy: 0.9223\n",
      "Epoch 15/20\n",
      "30/30 [==============================] - 0s 2ms/step - loss: 0.2169 - accuracy: 0.9271 - val_loss: 0.2084 - val_accuracy: 0.9296\n",
      "Epoch 16/20\n",
      "30/30 [==============================] - 0s 2ms/step - loss: 0.1989 - accuracy: 0.9365 - val_loss: 0.1903 - val_accuracy: 0.9563\n",
      "Epoch 17/20\n",
      "30/30 [==============================] - 0s 2ms/step - loss: 0.1816 - accuracy: 0.9490 - val_loss: 0.1743 - val_accuracy: 0.9684\n",
      "Epoch 18/20\n",
      "30/30 [==============================] - 0s 2ms/step - loss: 0.1657 - accuracy: 0.9604 - val_loss: 0.1588 - val_accuracy: 0.9709\n",
      "Epoch 19/20\n",
      "30/30 [==============================] - 0s 2ms/step - loss: 0.1509 - accuracy: 0.9688 - val_loss: 0.1454 - val_accuracy: 0.9709\n",
      "Epoch 20/20\n",
      "30/30 [==============================] - 0s 2ms/step - loss: 0.1377 - accuracy: 0.9729 - val_loss: 0.1329 - val_accuracy: 0.9733\n"
     ]
    }
   ],
   "source": [
    "# training the model\n",
    "history = model.fit(x_training, y_training, epochs=20, validation_data=(x_testing,  y_testing))"
   ]
  },
  {
   "cell_type": "code",
   "execution_count": 21,
   "metadata": {},
   "outputs": [
    {
     "name": "stdout",
     "output_type": "stream",
     "text": [
      "13/13 - 0s - loss: 0.1329 - accuracy: 0.9733 - 38ms/epoch - 3ms/step\n"
     ]
    },
    {
     "data": {
      "image/png": "[encoded data removed]",
      "text/plain": [
       "<Figure size 640x480 with 1 Axes>"
      ]
     },
     "metadata": {},
     "output_type": "display_data"
    }
   ],
   "source": [
    "# plotting evaluation graph\n",
    "plt.plot(history.history['accuracy'], label='accuracy')\n",
    "plt.plot(history.history['val_accuracy'], label = 'val_accuracy')\n",
    "plt.xlabel('Epoch')\n",
    "plt.ylabel('Accuracy')\n",
    "plt.ylim([0.5, 1])\n",
    "plt.legend(loc='lower right')\n",
    "\n",
    "# Evaluating the model and storing results\n",
    "test_loss, test_acc = model.evaluate(x_testing,  y_testing, verbose=2)"
   ]
  }
 ],
 "metadata": {
  "kernelspec": {
   "display_name": "Python 3",
   "language": "python",
   "name": "python3"
  },
  "language_info": {
   "codemirror_mode": {
    "name": "ipython",
    "version": 3
   },
   "file_extension": ".py",
   "mimetype": "text/x-python",
   "name": "python",
   "nbconvert_exporter": "python",
   "pygments_lexer": "ipython3",
   "version": "3.9.9"
  },
  "orig_nbformat": 4
 },
 "nbformat": 4,
 "nbformat_minor": 2
}
