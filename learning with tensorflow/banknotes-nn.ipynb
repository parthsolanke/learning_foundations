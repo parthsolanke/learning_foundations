{
 "cells": [
  {
   "cell_type": "code",
   "execution_count": 1,
   "metadata": {},
   "outputs": [],
   "source": [
    "import csv\n",
    "import tensorflow as tf\n",
    "import matplotlib.pyplot as plt\n",
    "from sklearn.model_selection import train_test_split"
   ]
  },
  {
   "cell_type": "code",
   "execution_count": 2,
   "metadata": {},
   "outputs": [],
   "source": [
    "# reading data from file\n",
    "with open(r\"data\\BankNote_Authentication.csv\") as f:\n",
    "    reader = csv.reader(f)\n",
    "    next(reader)\n",
    "    \n",
    "    data = []\n",
    "    for row in reader:\n",
    "        data.append({\n",
    "            \"feature\": [float(cell) for cell in row[:4]],\n",
    "            \"label\": 1 if row[4] == \"0\" else 0\n",
    "        })"
   ]
  },
  {
   "cell_type": "code",
   "execution_count": 3,
   "metadata": {},
   "outputs": [],
   "source": [
    "# performing train, test split\n",
    "feature = [row[\"feature\"] for row in data]\n",
    "label = [row[\"label\"] for row in data]\n",
    "\n",
    "x_training, x_testing, y_training, y_testing = train_test_split(feature, label, test_size=0.30)"
   ]
  },
  {
   "cell_type": "code",
   "execution_count": 4,
   "metadata": {},
   "outputs": [],
   "source": [
    "# preparing neural network\n",
    "model = tf.keras.models.Sequential()\n",
    "# hidden layer with 8 artificial neurons each with ReLu activation getting 4 inputs from features\n",
    "model.add(tf.keras.layers.Dense(8, input_shape=(4,), activation=\"relu\"))\n",
    "# output layer to return probablity between 0 and 1 hence with sigmoid activation\n",
    "model.add(tf.keras.layers.Dense(1, activation=\"sigmoid\"))"
   ]
  },
  {
   "cell_type": "code",
   "execution_count": 5,
   "metadata": {},
   "outputs": [
    {
     "name": "stdout",
     "output_type": "stream",
     "text": [
      "Model: \"sequential\"\n",
      "_________________________________________________________________\n",
      " Layer (type)                Output Shape              Param #   \n",
      "=================================================================\n",
      " dense (Dense)               (None, 8)                 40        \n",
      "                                                                 \n",
      " dense_1 (Dense)             (None, 1)                 9         \n",
      "                                                                 \n",
      "=================================================================\n",
      "Total params: 49\n",
      "Trainable params: 49\n",
      "Non-trainable params: 0\n",
      "_________________________________________________________________\n"
     ]
    }
   ],
   "source": [
    "# compiling the model\n",
    "model.compile(\n",
    "    optimizer=\"adam\",\n",
    "    loss=\"binary_crossentropy\",\n",
    "    metrics=[\"accuracy\"]\n",
    ")\n",
    "\n",
    "model.summary()"
   ]
  },
  {
   "cell_type": "code",
   "execution_count": 6,
   "metadata": {},
   "outputs": [
    {
     "name": "stdout",
     "output_type": "stream",
     "text": [
      "Epoch 1/20\n",
      "30/30 [==============================] - 0s 7ms/step - loss: 0.6228 - accuracy: 0.6958 - val_loss: 0.4648 - val_accuracy: 0.7597\n",
      "Epoch 2/20\n",
      "30/30 [==============================] - 0s 3ms/step - loss: 0.4730 - accuracy: 0.7750 - val_loss: 0.3882 - val_accuracy: 0.8495\n",
      "Epoch 3/20\n",
      "30/30 [==============================] - 0s 2ms/step - loss: 0.4238 - accuracy: 0.8240 - val_loss: 0.3565 - val_accuracy: 0.8568\n",
      "Epoch 4/20\n",
      "30/30 [==============================] - 0s 2ms/step - loss: 0.3898 - accuracy: 0.8333 - val_loss: 0.3286 - val_accuracy: 0.8762\n",
      "Epoch 5/20\n",
      "30/30 [==============================] - 0s 2ms/step - loss: 0.3586 - accuracy: 0.8500 - val_loss: 0.3023 - val_accuracy: 0.8811\n",
      "Epoch 6/20\n",
      "30/30 [==============================] - 0s 2ms/step - loss: 0.3294 - accuracy: 0.8625 - val_loss: 0.2789 - val_accuracy: 0.8883\n",
      "Epoch 7/20\n",
      "30/30 [==============================] - 0s 2ms/step - loss: 0.3038 - accuracy: 0.8687 - val_loss: 0.2566 - val_accuracy: 0.8981\n",
      "Epoch 8/20\n",
      "30/30 [==============================] - 0s 3ms/step - loss: 0.2793 - accuracy: 0.8781 - val_loss: 0.2372 - val_accuracy: 0.9078\n",
      "Epoch 9/20\n",
      "30/30 [==============================] - 0s 2ms/step - loss: 0.2576 - accuracy: 0.8906 - val_loss: 0.2197 - val_accuracy: 0.9150\n",
      "Epoch 10/20\n",
      "30/30 [==============================] - 0s 2ms/step - loss: 0.2380 - accuracy: 0.9021 - val_loss: 0.2034 - val_accuracy: 0.9248\n",
      "Epoch 11/20\n",
      "30/30 [==============================] - 0s 2ms/step - loss: 0.2198 - accuracy: 0.9115 - val_loss: 0.1889 - val_accuracy: 0.9320\n",
      "Epoch 12/20\n",
      "30/30 [==============================] - 0s 2ms/step - loss: 0.2041 - accuracy: 0.9187 - val_loss: 0.1758 - val_accuracy: 0.9369\n",
      "Epoch 13/20\n",
      "30/30 [==============================] - 0s 2ms/step - loss: 0.1897 - accuracy: 0.9281 - val_loss: 0.1646 - val_accuracy: 0.9490\n",
      "Epoch 14/20\n",
      "30/30 [==============================] - 0s 3ms/step - loss: 0.1772 - accuracy: 0.9385 - val_loss: 0.1542 - val_accuracy: 0.9563\n",
      "Epoch 15/20\n",
      "30/30 [==============================] - 0s 2ms/step - loss: 0.1659 - accuracy: 0.9438 - val_loss: 0.1447 - val_accuracy: 0.9636\n",
      "Epoch 16/20\n",
      "30/30 [==============================] - 0s 2ms/step - loss: 0.1556 - accuracy: 0.9510 - val_loss: 0.1362 - val_accuracy: 0.9684\n",
      "Epoch 17/20\n",
      "30/30 [==============================] - 0s 3ms/step - loss: 0.1463 - accuracy: 0.9552 - val_loss: 0.1286 - val_accuracy: 0.9757\n",
      "Epoch 18/20\n",
      "30/30 [==============================] - 0s 2ms/step - loss: 0.1378 - accuracy: 0.9563 - val_loss: 0.1217 - val_accuracy: 0.9782\n",
      "Epoch 19/20\n",
      "30/30 [==============================] - 0s 2ms/step - loss: 0.1299 - accuracy: 0.9604 - val_loss: 0.1151 - val_accuracy: 0.9782\n",
      "Epoch 20/20\n",
      "30/30 [==============================] - 0s 3ms/step - loss: 0.1228 - accuracy: 0.9625 - val_loss: 0.1091 - val_accuracy: 0.9806\n"
     ]
    }
   ],
   "source": [
    "# training the model\n",
    "history = model.fit(x_training, y_training, epochs=20, validation_data=(x_testing,  y_testing))"
   ]
  },
  {
   "cell_type": "code",
   "execution_count": 7,
   "metadata": {},
   "outputs": [
    {
     "name": "stdout",
     "output_type": "stream",
     "text": [
      "13/13 - 0s - loss: 0.1091 - accuracy: 0.9806 - 43ms/epoch - 3ms/step\n"
     ]
    },
    {
     "data": {
      "text/plain": [
       "[0.10914500057697296, 0.9805825352668762]"
      ]
     },
     "execution_count": 7,
     "metadata": {},
     "output_type": "execute_result"
    },
    {
     "data": {
      "image/png": "[encoded data removed]",
      "text/plain": [
       "<Figure size 640x480 with 1 Axes>"
      ]
     },
     "metadata": {},
     "output_type": "display_data"
    }
   ],
   "source": [
    "# plotting evaluation graph\n",
    "plt.plot(history.history['accuracy'], label='accuracy')\n",
    "plt.plot(history.history['val_accuracy'], label = 'val_accuracy')\n",
    "plt.xlabel('Epoch')\n",
    "plt.ylabel('Accuracy')\n",
    "plt.ylim([0.5, 1])\n",
    "plt.legend(loc='lower right')\n",
    "\n",
    "# Evaluating the model and storing results\n",
    "model.evaluate(x_testing,  y_testing, verbose=2)"
   ]
  }
 ],
 "metadata": {
  "kernelspec": {
   "display_name": "Python 3",
   "language": "python",
   "name": "python3"
  },
  "language_info": {
   "codemirror_mode": {
    "name": "ipython",
    "version": 3
   },
   "file_extension": ".py",
   "mimetype": "text/x-python",
   "name": "python",
   "nbconvert_exporter": "python",
   "pygments_lexer": "ipython3",
   "version": "3.9.9"
  },
  "orig_nbformat": 4
 },
 "nbformat": 4,
 "nbformat_minor": 2
}
