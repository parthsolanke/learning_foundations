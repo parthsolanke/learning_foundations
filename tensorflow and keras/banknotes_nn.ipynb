{
 "cells": [
  {
   "cell_type": "code",
   "execution_count": null,
   "metadata": {},
   "outputs": [],
   "source": [
    "import csv\n",
    "import tensorflow as tf\n",
    "from sklearn.model_selection import train_test_split"
   ]
  },
  {
   "cell_type": "code",
   "execution_count": null,
   "metadata": {},
   "outputs": [],
   "source": [
    "# reading data from file\n",
    "with open(r\"data\\BankNote_Authentication.csv\") as f:\n",
    "    reader = csv.reader(f)\n",
    "    next(reader)\n",
    "    \n",
    "    data = []\n",
    "    for row in reader:\n",
    "        data.append({\n",
    "            \"feature\": [float(cell) for cell in row[:4]],\n",
    "            \"label\": 1 if row[4] == \"0\" else 0\n",
    "        })"
   ]
  },
  {
   "cell_type": "code",
   "execution_count": null,
   "metadata": {},
   "outputs": [],
   "source": [
    "# performing train, test split\n",
    "feature = [row[\"feature\"] for row in data]\n",
    "label = [row[\"label\"] for row in data]\n",
    "\n",
    "x_training, x_testing, y_training, y_testing = train_test_split(feature, label, test_size=0.30)"
   ]
  },
  {
   "cell_type": "code",
   "execution_count": null,
   "metadata": {},
   "outputs": [],
   "source": [
    "# preparing neural network\n",
    "model = tf.keras.models.Sequential()\n",
    "# hidden layer with 8 artificial neurons each with ReLu activation getting 4 inputs from features\n",
    "model.add(tf.keras.layers.Dense(8, input_shape=(4,), activation=\"relu\"))\n",
    "# output layer to return probablity between 0 and 1 hence with sigmoid activation\n",
    "model.add(tf.keras.layers.Dense(1, activation=\"sigmoid\"))"
   ]
  },
  {
   "cell_type": "code",
   "execution_count": null,
   "metadata": {},
   "outputs": [
    {
     "name": "stdout",
     "output_type": "stream",
     "text": [
      "Model: \"sequential_4\"\n",
      "_________________________________________________________________\n",
      " Layer (type)                Output Shape              Param #   \n",
      "=================================================================\n",
      " dense_6 (Dense)             (None, 8)                 40        \n",
      "                                                                 \n",
      " dense_7 (Dense)             (None, 1)                 9         \n",
      "                                                                 \n",
      "=================================================================\n",
      "Total params: 49\n",
      "Trainable params: 49\n",
      "Non-trainable params: 0\n",
      "_________________________________________________________________\n"
     ]
    }
   ],
   "source": [
    "# compiling the model\n",
    "model.compile(\n",
    "    optimizer=\"adam\",\n",
    "    loss=\"binary_crossentropy\",\n",
    "    metrics=[\"accuracy\"]\n",
    ")\n",
    "\n",
    "model.summary()"
   ]
  },
  {
   "cell_type": "code",
   "execution_count": null,
   "metadata": {},
   "outputs": [
    {
     "name": "stdout",
     "output_type": "stream",
     "text": [
      "Epoch 1/20\n",
      "30/30 [==============================] - 0s 2ms/step - loss: 1.9891 - accuracy: 0.3802\n",
      "Epoch 2/20\n",
      "30/30 [==============================] - 0s 2ms/step - loss: 1.4939 - accuracy: 0.2708\n",
      "Epoch 3/20\n",
      "30/30 [==============================] - 0s 1ms/step - loss: 1.1485 - accuracy: 0.2990\n",
      "Epoch 4/20\n",
      "30/30 [==============================] - 0s 1ms/step - loss: 0.9503 - accuracy: 0.3729\n",
      "Epoch 5/20\n",
      "30/30 [==============================] - 0s 1ms/step - loss: 0.8175 - accuracy: 0.4521\n",
      "Epoch 6/20\n",
      "30/30 [==============================] - 0s 1ms/step - loss: 0.7120 - accuracy: 0.5094\n",
      "Epoch 7/20\n",
      "30/30 [==============================] - 0s 2ms/step - loss: 0.6255 - accuracy: 0.5823\n",
      "Epoch 8/20\n",
      "30/30 [==============================] - 0s 1ms/step - loss: 0.5497 - accuracy: 0.6510\n",
      "Epoch 9/20\n",
      "30/30 [==============================] - 0s 1ms/step - loss: 0.4845 - accuracy: 0.7260\n",
      "Epoch 10/20\n",
      "30/30 [==============================] - 0s 2ms/step - loss: 0.4291 - accuracy: 0.8010\n",
      "Epoch 11/20\n",
      "30/30 [==============================] - 0s 1ms/step - loss: 0.3819 - accuracy: 0.8552\n",
      "Epoch 12/20\n",
      "30/30 [==============================] - 0s 1ms/step - loss: 0.3423 - accuracy: 0.8896\n",
      "Epoch 13/20\n",
      "30/30 [==============================] - 0s 1ms/step - loss: 0.3093 - accuracy: 0.9104\n",
      "Epoch 14/20\n",
      "30/30 [==============================] - 0s 1ms/step - loss: 0.2820 - accuracy: 0.9354\n",
      "Epoch 15/20\n",
      "30/30 [==============================] - 0s 1ms/step - loss: 0.2593 - accuracy: 0.9490\n",
      "Epoch 16/20\n",
      "30/30 [==============================] - 0s 1ms/step - loss: 0.2400 - accuracy: 0.9552\n",
      "Epoch 17/20\n",
      "30/30 [==============================] - 0s 1ms/step - loss: 0.2234 - accuracy: 0.9583\n",
      "Epoch 18/20\n",
      "30/30 [==============================] - 0s 1ms/step - loss: 0.2086 - accuracy: 0.9635\n",
      "Epoch 19/20\n",
      "30/30 [==============================] - 0s 1ms/step - loss: 0.1952 - accuracy: 0.9656\n",
      "Epoch 20/20\n",
      "30/30 [==============================] - 0s 1ms/step - loss: 0.1832 - accuracy: 0.9667\n"
     ]
    },
    {
     "data": {
      "text/plain": [
       "<keras.callbacks.History at 0x1a6bdc60730>"
      ]
     },
     "execution_count": 29,
     "metadata": {},
     "output_type": "execute_result"
    }
   ],
   "source": [
    "# training model\n",
    "model.fit(x_training, y_training, epochs=20)"
   ]
  },
  {
   "cell_type": "code",
   "execution_count": null,
   "metadata": {},
   "outputs": [
    {
     "name": "stdout",
     "output_type": "stream",
     "text": [
      "13/13 - 0s - loss: 0.1894 - accuracy: 0.9442 - 173ms/epoch - 13ms/step\n"
     ]
    },
    {
     "data": {
      "text/plain": [
       "[0.18937890231609344, 0.9441747665405273]"
      ]
     },
     "execution_count": 30,
     "metadata": {},
     "output_type": "execute_result"
    }
   ],
   "source": [
    "# evaluating on test data\n",
    "model.evaluate(x_testing, y_testing, verbose=2)"
   ]
  }
 ],
 "metadata": {
  "kernelspec": {
   "display_name": "Python 3",
   "language": "python",
   "name": "python3"
  },
  "language_info": {
   "codemirror_mode": {
    "name": "ipython",
    "version": 3
   },
   "file_extension": ".py",
   "mimetype": "text/x-python",
   "name": "python",
   "nbconvert_exporter": "python",
   "pygments_lexer": "ipython3",
   "version": "3.9.9"
  },
  "orig_nbformat": 4
 },
 "nbformat": 4,
 "nbformat_minor": 2
}
