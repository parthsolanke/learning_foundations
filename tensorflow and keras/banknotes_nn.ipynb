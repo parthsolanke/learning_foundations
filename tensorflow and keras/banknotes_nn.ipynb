{
 "cells": [
  {
   "cell_type": "code",
   "execution_count": 1,
   "metadata": {},
   "outputs": [],
   "source": [
    "import csv\n",
    "import tensorflow as tf\n",
    "from sklearn.model_selection import train_test_split"
   ]
  },
  {
   "cell_type": "code",
   "execution_count": 2,
   "metadata": {},
   "outputs": [],
   "source": [
    "# reading data from file\n",
    "with open(r\"data\\BankNote_Authentication.csv\") as f:\n",
    "    reader = csv.reader(f)\n",
    "    next(reader)\n",
    "    \n",
    "    data = []\n",
    "    for row in reader:\n",
    "        data.append({\n",
    "            \"feature\": [float(cell) for cell in row[:4]],\n",
    "            \"label\": 1 if row[4] == \"0\" else 0\n",
    "        })"
   ]
  },
  {
   "cell_type": "code",
   "execution_count": 3,
   "metadata": {},
   "outputs": [],
   "source": [
    "# performing train, test split\n",
    "feature = [row[\"feature\"] for row in data]\n",
    "label = [row[\"label\"] for row in data]\n",
    "\n",
    "x_training, x_testing, y_training, y_testing = train_test_split(feature, label, test_size=0.30)"
   ]
  },
  {
   "cell_type": "code",
   "execution_count": 4,
   "metadata": {},
   "outputs": [],
   "source": [
    "# preparing neural network\n",
    "model = tf.keras.models.Sequential()\n",
    "# hidden layer with 8 artificial neurons each with ReLu activation getting 4 inputs from features\n",
    "model.add(tf.keras.layers.Dense(8, input_shape=(4,), activation=\"relu\"))\n",
    "# output layer to return probablity between 0 and 1 hence with sigmoid activation\n",
    "model.add(tf.keras.layers.Dense(1, activation=\"sigmoid\"))"
   ]
  },
  {
   "cell_type": "code",
   "execution_count": 5,
   "metadata": {},
   "outputs": [
    {
     "name": "stdout",
     "output_type": "stream",
     "text": [
      "Model: \"sequential\"\n",
      "_________________________________________________________________\n",
      " Layer (type)                Output Shape              Param #   \n",
      "=================================================================\n",
      " dense (Dense)               (None, 8)                 40        \n",
      "                                                                 \n",
      " dense_1 (Dense)             (None, 1)                 9         \n",
      "                                                                 \n",
      "=================================================================\n",
      "Total params: 49\n",
      "Trainable params: 49\n",
      "Non-trainable params: 0\n",
      "_________________________________________________________________\n"
     ]
    }
   ],
   "source": [
    "# compiling the model\n",
    "model.compile(\n",
    "    optimizer=\"adam\",\n",
    "    loss=\"binary_crossentropy\",\n",
    "    metrics=[\"accuracy\"]\n",
    ")\n",
    "\n",
    "model.summary()"
   ]
  },
  {
   "cell_type": "code",
   "execution_count": 6,
   "metadata": {},
   "outputs": [
    {
     "name": "stdout",
     "output_type": "stream",
     "text": [
      "Epoch 1/20\n",
      "30/30 [==============================] - 0s 924us/step - loss: 1.1289 - accuracy: 0.2573\n",
      "Epoch 2/20\n",
      "30/30 [==============================] - 0s 1ms/step - loss: 0.9229 - accuracy: 0.2948\n",
      "Epoch 3/20\n",
      "30/30 [==============================] - 0s 994us/step - loss: 0.8061 - accuracy: 0.3854\n",
      "Epoch 4/20\n",
      "30/30 [==============================] - 0s 945us/step - loss: 0.7288 - accuracy: 0.4594\n",
      "Epoch 5/20\n",
      "30/30 [==============================] - 0s 1ms/step - loss: 0.6727 - accuracy: 0.5375\n",
      "Epoch 6/20\n",
      "30/30 [==============================] - 0s 1ms/step - loss: 0.6259 - accuracy: 0.6125\n",
      "Epoch 7/20\n",
      "30/30 [==============================] - 0s 1ms/step - loss: 0.5853 - accuracy: 0.6698\n",
      "Epoch 8/20\n",
      "30/30 [==============================] - 0s 954us/step - loss: 0.5485 - accuracy: 0.7083\n",
      "Epoch 9/20\n",
      "30/30 [==============================] - 0s 933us/step - loss: 0.5141 - accuracy: 0.7292\n",
      "Epoch 10/20\n",
      "30/30 [==============================] - 0s 888us/step - loss: 0.4820 - accuracy: 0.7427\n",
      "Epoch 11/20\n",
      "30/30 [==============================] - 0s 911us/step - loss: 0.4508 - accuracy: 0.7677\n",
      "Epoch 12/20\n",
      "30/30 [==============================] - 0s 1ms/step - loss: 0.4204 - accuracy: 0.7906\n",
      "Epoch 13/20\n",
      "30/30 [==============================] - 0s 980us/step - loss: 0.3915 - accuracy: 0.8177\n",
      "Epoch 14/20\n",
      "30/30 [==============================] - 0s 1ms/step - loss: 0.3631 - accuracy: 0.8510\n",
      "Epoch 15/20\n",
      "30/30 [==============================] - 0s 1ms/step - loss: 0.3360 - accuracy: 0.8750\n",
      "Epoch 16/20\n",
      "30/30 [==============================] - 0s 1ms/step - loss: 0.3108 - accuracy: 0.9000\n",
      "Epoch 17/20\n",
      "30/30 [==============================] - 0s 1ms/step - loss: 0.2869 - accuracy: 0.9156\n",
      "Epoch 18/20\n",
      "30/30 [==============================] - 0s 1ms/step - loss: 0.2640 - accuracy: 0.9292\n",
      "Epoch 19/20\n",
      "30/30 [==============================] - 0s 1ms/step - loss: 0.2412 - accuracy: 0.9427\n",
      "Epoch 20/20\n",
      "30/30 [==============================] - 0s 1ms/step - loss: 0.2203 - accuracy: 0.9594\n"
     ]
    },
    {
     "data": {
      "text/plain": [
       "<keras.callbacks.History at 0x1e7e0004820>"
      ]
     },
     "execution_count": 6,
     "metadata": {},
     "output_type": "execute_result"
    }
   ],
   "source": [
    "# training model\n",
    "model.fit(x_training, y_training, epochs=20)"
   ]
  },
  {
   "cell_type": "code",
   "execution_count": 7,
   "metadata": {},
   "outputs": [
    {
     "name": "stdout",
     "output_type": "stream",
     "text": [
      "13/13 - 0s - loss: 0.2094 - accuracy: 0.9539 - 213ms/epoch - 16ms/step\n"
     ]
    },
    {
     "data": {
      "text/plain": [
       "[0.20936384797096252, 0.9538834691047668]"
      ]
     },
     "execution_count": 7,
     "metadata": {},
     "output_type": "execute_result"
    }
   ],
   "source": [
    "# evaluating on test data\n",
    "model.evaluate(x_testing, y_testing, verbose=2)"
   ]
  }
 ],
 "metadata": {
  "kernelspec": {
   "display_name": "Python 3",
   "language": "python",
   "name": "python3"
  },
  "language_info": {
   "codemirror_mode": {
    "name": "ipython",
    "version": 3
   },
   "file_extension": ".py",
   "mimetype": "text/x-python",
   "name": "python",
   "nbconvert_exporter": "python",
   "pygments_lexer": "ipython3",
   "version": "3.9.9"
  },
  "orig_nbformat": 4
 },
 "nbformat": 4,
 "nbformat_minor": 2
}
